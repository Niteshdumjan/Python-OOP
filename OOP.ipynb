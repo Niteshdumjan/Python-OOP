{
  "nbformat": 4,
  "nbformat_minor": 0,
  "metadata": {
    "colab": {
      "provenance": []
    },
    "kernelspec": {
      "name": "python3",
      "display_name": "Python 3"
    },
    "language_info": {
      "name": "python"
    }
  },
  "cells": [
    {
      "cell_type": "markdown",
      "source": [
        "#OOP (Object Oriented Programing)\n"
      ],
      "metadata": {
        "id": "QbroC70ZviwX"
      }
    },
    {
      "cell_type": "code",
      "execution_count": null,
      "metadata": {
        "id": "w--I6vEYvYxG"
      },
      "outputs": [],
      "source": [
        "# OOP (Object Oriented Programing)"
      ]
    },
    {
      "cell_type": "code",
      "source": [
        "\n"
      ],
      "metadata": {
        "id": "YirlRkjKwEoG"
      },
      "execution_count": null,
      "outputs": []
    },
    {
      "cell_type": "code",
      "source": [
        " #1. What is Object-Oriented Programming (OOP)?\n",
        "\n",
        "# Object-Oriented Programming (OOP) is a programming paradigm based on the concept of \"objects\", which can contain data, in the form of fields (often known as attributes or properties), and code, in the form of procedures (often known as methods).  A feature of objects is an object's procedures that can access and often modify the data fields of the object with which they are associated (objects have a notion of \"this\" or \"self\").\n",
        "\n",
        "# In simpler terms, OOP is a way of organizing code by creating reusable blueprints (classes) for objects.  These objects can interact with each other, making code more modular, organized, and easier to maintain.\n",
        "\n",
        "'''\n",
        "Key Concepts in OOP:\n",
        " * **Classes:** Blueprints or templates for creating objects. They define the attributes and methods that objects of that class will have.\n",
        " * **Objects:** Instances of a class.  They represent real-world entities or concepts.\n",
        " * **Methods:** Functions that belong to an object and operate on its data.\n",
        " * **Attributes:** Variables that hold data associated with an object.\n",
        " * **Encapsulation:** Bundling data and methods that operate on that data within a class. This helps to protect data and control access to it.\n",
        " * **Inheritance:** Creating new classes (derived classes) from existing ones (base classes).  The derived classes inherit the attributes and methods of the base class, and can also add or modify them.\n",
        " * **Polymorphism:** The ability of objects of different classes to respond to the same method call in their own specific way.\n",
        "'''\n",
        "\n"
      ],
      "metadata": {
        "id": "feILwGnewMHh"
      },
      "execution_count": null,
      "outputs": []
    },
    {
      "cell_type": "code",
      "source": [
        "# 3. What is a class in OOP\n",
        "\n",
        "'''\n",
        "In object-oriented programming (OOP), a class is a blueprint or template for creating\n",
        "objects.  It defines the attributes (data) and methods (functions) that objects of that\n",
        "class will possess.  Think of a class as a cookie cutter – it defines the shape and\n",
        "characteristics of the cookies (objects), but it's not a cookie itself.  You use the\n",
        "cookie cutter to create multiple, individual cookies.  Similarly, you use a class to create\n",
        "multiple instances of objects, each with its own specific data but sharing the same structure\n",
        "and behavior defined by the class.\n",
        "'''\n"
      ],
      "metadata": {
        "id": "M8BNnCbdwfMW"
      },
      "execution_count": null,
      "outputs": []
    },
    {
      "cell_type": "code",
      "source": [
        "# 4. What is the difference between abstraction and encapsulation?\n",
        "'''\n",
        "  Abstraction and encapsulation are fundamental concepts in object-oriented programming (OOP),\n",
        "  and while they often work together, they serve distinct purposes.\n",
        "'''\n",
        "\n",
        "# Abstraction\n",
        "'''\n",
        "  Abstraction focuses on hiding complex implementation details and showing only the essential features of an object.\n",
        "\n",
        "  It's about simplifying complex reality by modeling classes appropriate to the problem, and working at the necessary level of complexity.\n",
        "\n",
        "  It deals with \"what\" an object does, rather than \"how\" it does it.\n",
        "'''\n",
        "\n",
        "# Encapsulation:\n",
        "'''\n",
        "Encapsulation involves bundling data (attributes) and the methods (functions) that operate on that data into a single unit, called a class.\n",
        "It's about hiding the internal state of an object and controlling access to it.\n",
        "It deals with \"how\" the data is handled.\n",
        "'''\n",
        "\n"
      ],
      "metadata": {
        "id": "HNxoKrQexeys"
      },
      "execution_count": null,
      "outputs": []
    },
    {
      "cell_type": "code",
      "source": [
        "#5. What are dunder methods in Python?\n",
        "'''\n",
        "  In Python, \"dunder\" methods, also known as \"magic methods\" or \"special methods,\n",
        "  \" are special methods that have double underscores (double \"underscores\") at the\n",
        "  beginning and end of their names. For example, __init__, __str__, __len__, and\n",
        "  __add__ are all dunder methods.\n",
        "'''"
      ],
      "metadata": {
        "id": "wDQlqcsxy2Dn"
      },
      "execution_count": null,
      "outputs": []
    },
    {
      "cell_type": "code",
      "source": [
        "# Explain the concept of inheritance in OOP.\n",
        "'''\n",
        "  Inheritance is a core concept in object-oriented programming (OOP) that allows\n",
        "  a new class to inherit properties and behaviors from an existing class. This creates\n",
        "  a hierarchy of classes, where\n",
        "'''\n"
      ],
      "metadata": {
        "id": "AZX0d0EdzMgj"
      },
      "execution_count": null,
      "outputs": []
    },
    {
      "cell_type": "code",
      "source": [
        "# 7. What is polymorphism in OOP.\n",
        "\n",
        "'''\n",
        "Polymorphism, in the context of object-oriented programming (OOP), refers to\n",
        "the ability of objects of different classes to respond to the same method call\n",
        "in their own specific ways. Essentially, it means \"many forms\n",
        "'''"
      ],
      "metadata": {
        "id": "gZ17KmMH0UQZ"
      },
      "execution_count": null,
      "outputs": []
    },
    {
      "cell_type": "code",
      "source": [
        "# 8. How is encapsulation achieved in Python?\n",
        "'''\n",
        "  While Python doesn't enforce encapsulation with strict access modifiers like some\n",
        "  other object-oriented languages (Java, C++), it achieves encapsulation through\n",
        "  conventions and certain language features.\n",
        "\n",
        "'''\n",
        "# 1. Naming Conventions:\n",
        "\n",
        "# Single Underscore (_):\n",
        "'''\n",
        "A leading single underscore indicates that an attribute or method is intended to\n",
        "be \"protected.\" This signals to other developers that it's meant for internal use\n",
        "within the class and its subclasses. While you can access it from outside, it's\n",
        "considered bad practice.\n",
        "'''\n",
        "# Double Underscore (__):\n",
        "'''\n",
        "A leading double underscore triggers \"name mangling.\" Python modifies the attribute\n",
        "name to make it harder to access from outside the class. This helps prevent accidental\n",
        "overriding in subclasses.\n",
        "'''\n",
        "\n",
        "# 2. Properties (@property):\n",
        "\n",
        "# The @property decorator allows you to define getter, setter, and deleter methods.\n",
        "# This provides controlled access to class attributes.This is a Pythonic way to implement encapsulation by:\n",
        "     '''\n",
        "     > Allowing you to validate data before setting it.\n",
        "     > Providing read-only attributes.\n",
        "     > Hiding the underlying implementation details.\n",
        "     '''\n",
        "\n",
        "\n"
      ],
      "metadata": {
        "id": "2iI2mIVU1DNz"
      },
      "execution_count": null,
      "outputs": []
    },
    {
      "cell_type": "code",
      "source": [
        "# What is a constructor in Python?\n",
        "'''\n",
        "  In Python, a constructor is a special method used to initialize the state of an\n",
        "  object. It's automatically called when an object of a class is created. The most\n",
        "  common constructor in Python is the __init__ method.\n",
        "'''\n",
        "\n",
        "\n"
      ],
      "metadata": {
        "id": "gn-4v1dX2vnB"
      },
      "execution_count": null,
      "outputs": []
    },
    {
      "cell_type": "code",
      "source": [
        "# What are class and static methods in Python.\n",
        "'''\n",
        "In Python, methods within a class can be categorized into three types: instance\n",
        "methods, class methods, and static methods. Understanding their differences is\n",
        "crucial for effective object-oriented programming. Here's a breakdown of class and\n",
        "static methods:\n",
        "'''\n",
        "\n",
        "# 1. Class Methods:\n",
        "'''\n",
        " > A class method is a method that is bound to the class and not the instance of the class.\n",
        " > It takes the class itself as the first argument,1 conventionally named cls.\n",
        " > It can access and modify class-level attributes.\n",
        "'''\n",
        "\n",
        "# Decorator:\n",
        " '''\n",
        " They are defined using the @classmethod decorator.\n",
        " '''\n",
        "# Purpose:\n",
        "  # Class methods are often used for:\n",
        "    '''\n",
        "    > Factory methods: Creating instances of the class in alternative ways.\n",
        "    > Modifying class-level attributes.\n",
        "    '''\n",
        "\n",
        "# 2. Static Methods:\n",
        "'''\n",
        "  A static method is a method that is bound to the class but does not have access to the class or instance attributes.\n",
        "  It behaves like a regular function but is contained within the class's namespace.\n",
        "  It does not take a self or cls argument.\n",
        "'''\n",
        "# Decorator:\n",
        "'''\n",
        "  They are defined using the @staticmethod decorator.\n",
        "'''\n",
        "# Purpose:\n",
        "'''\n",
        "Static methods are used for:\n",
        "  Utility functions that are logically related to the class.\n",
        "  Grouping related functions within a class.\n",
        "'''"
      ],
      "metadata": {
        "id": "hxt1IQy93Vuj"
      },
      "execution_count": null,
      "outputs": []
    },
    {
      "cell_type": "code",
      "source": [
        "# 11. What is method overloading in Python?\n",
        "'''\n",
        "  Method overloading in Python refers to the ability to define multiple methods\n",
        "  with the same name but different parameters. However, unlike some other programming\n",
        "  languages (like Java or C++), Python does not support method overloading in the\n",
        "  traditional sense—that is, you can't define multiple methods with the same name\n",
        "  but different parameter lists in the same scope.\n",
        "'''\n",
        "\n"
      ],
      "metadata": {
        "id": "aOA68A2T-DNl"
      },
      "execution_count": null,
      "outputs": []
    },
    {
      "cell_type": "code",
      "source": [
        "# 12 What is method overriding in OOP?\n",
        "'''\n",
        "  Method overriding in Object-Oriented Programming (OOP) occurs when a subclass\n",
        "  (child class) provides a specific implementation of a method that is already\n",
        "  defined in its superclass (parent class).\n",
        "'''"
      ],
      "metadata": {
        "id": "fuCr47gPC2P8"
      },
      "execution_count": null,
      "outputs": []
    },
    {
      "cell_type": "code",
      "source": [
        "# 13. What is a property decorator in Python?\n",
        "'''\n",
        "  The @property decorator in Python is used to define a method as a read-only property,\n",
        "  allowing you to access it like an attribute—without calling it like a function.\n",
        "  It's a part of Python's way to encapsulate and control access to instance variables\n",
        "  (getters/setters), but in a clean, Pythonic way.\n",
        "'''"
      ],
      "metadata": {
        "id": "R8KNiqPLD2-h"
      },
      "execution_count": null,
      "outputs": []
    },
    {
      "cell_type": "code",
      "source": [
        "#  14. Why is polymorphism important in OOP?\n",
        "'''\n",
        "Polymorphism in OOP stands for \"many forms\" — and it's super important because it\n",
        "lets objects of different classes respond to the same method call in different ways.\n",
        "'''\n",
        "\n"
      ],
      "metadata": {
        "id": "Dqh0BkSdEXR9"
      },
      "execution_count": null,
      "outputs": []
    },
    {
      "cell_type": "code",
      "source": [
        "# 15. What is an abstract class in Python?\n",
        "'''\n",
        "  An abstract class in Python is a class that cannot be instantiated directly and\n",
        "  is meant to be inherited by other classes. It is used to define a common interface\n",
        "  for a group of related classes.\n",
        "'''\n",
        "# Key Features:\n",
        "'''\n",
        "  >Contains one or more abstract methods (methods with no implementation).\n",
        "\n",
        "  >Acts like a template for subclasses.\n",
        "\n",
        "  >Subclasses must override all abstract methods to be instantiable.\n",
        "\n",
        "  >Helps enforce a consistent interface across multiple subclasses.\n",
        "'''\n",
        "\n"
      ],
      "metadata": {
        "id": "0qMFiqefEyVP"
      },
      "execution_count": null,
      "outputs": []
    },
    {
      "cell_type": "code",
      "source": [
        "# 16. What are the advantages of OOP?\n",
        "'''\n",
        "Object-Oriented Programming (OOP) offers several advantages that make it a popular\n",
        "paradigm for building complex and scalable software systems. Here are the key benefits:\n",
        "'''\n",
        "\n",
        "# 1. Modularity\n",
        "'''\n",
        "Code is organized into discrete classes/objects, making it easier to manage and maintain.\n",
        "\n",
        "Each class is like a self-contained unit, which reduces interdependencies.\n",
        "'''\n",
        "# 2. Reusability\n",
        "'''\n",
        "Classes and objects can be reused across different parts of a program or even in\n",
        "other projects.\n",
        "\n",
        "Inheritance allows new classes to reuse, extend, or modify the behavior of existing ones.\n",
        "'''\n",
        "# 3. Scalability and Maintainability\n",
        "'''\n",
        "Large projects become easier to manage with a clear object structure.\n",
        "\n",
        "Changes in one part of the program can often be made with minimal impact on the rest of the code.\n",
        "'''\n",
        "# 4. Encapsulation\n",
        "'''\n",
        "Data and methods are bundled together, restricting direct access to some components.\n",
        "\n",
        "This protects the internal state of objects and promotes a clean interface.\n",
        "'''\n",
        "# 5. Abstraction\n",
        "'''\n",
        "Complex systems can be represented with simpler models by hiding unnecessary details.\n",
        "\n",
        "Focuses on what an object does instead of how it does it.\n",
        "'''\n",
        "# 6. Polymorphism\n",
        "'''\n",
        "The same operation can behave differently on different classes.\n",
        "\n",
        "Makes code more flexible and extensible (e.g., method overriding and overloading).\n",
        "'''\n",
        "# 7. Improved Collaboration\n",
        "'''\n",
        "OOP design patterns help teams work more effectively on large codebases by clearly\n",
        "defining responsibilities and interfaces.\n",
        "'''\n",
        "# 8. Real-world Modeling\n",
        "'''\n",
        "OOP maps closely to real-world entities and interactions, making design more intuitive\n",
        "and easier to visualize.\n",
        "'''\n"
      ],
      "metadata": {
        "id": "2EGnVe20fz8P"
      },
      "execution_count": null,
      "outputs": []
    },
    {
      "cell_type": "code",
      "source": [
        "# 17. What is the difference between a class variable and an instance variable?\n",
        "# \tClass Variable\n",
        "# Feature\t          Class Variable\t                                                 Instance Variable\n",
        "'''\n",
        "Definition\t        Shared across all instances of a class\t                        Unique to each instance (object)\n",
        "Declared using\t    Inside the class, but outside any methods\t                      Inside a method (usually __init__) using self\n",
        "Storage\tStored      in the class namespace\t                                        Stored in the instance (object) namespace\n",
        "Accessed with\t      ClassName.variable or self.__class__.variable\tself.variable\n",
        "Modification\t      Affects all instances if modified via the class             \t  Affects only the specific instance\n",
        "Example Use\t        To keep track of something common, like a counter               To store data specific to one object, like name, age, etc.\n",
        "                                                                                    for all instances\n",
        "'''"
      ],
      "metadata": {
        "id": "iiCslRpugsvn"
      },
      "execution_count": null,
      "outputs": []
    },
    {
      "cell_type": "code",
      "source": [
        "# 18. What is multiple inheritance in Python?\n",
        "'''\n",
        "  Multiple inheritance is a feature in Python where a class can inherit from more\n",
        "  than one parent class. This allows a child class to access the methods and attributes\n",
        "  of all its parent classes.\n",
        "'''\n",
        "\n",
        "# Example\n",
        "class Father:\n",
        "    def skills(self):\n",
        "        print(\"Gardening, Carpentry\")\n",
        "\n",
        "class Mother:\n",
        "    def skills(self):\n",
        "        print(\"Cooking, Painting\")\n",
        "\n",
        "class Child(Father, Mother):\n",
        "    def skills(self):\n",
        "        # Optionally override or combine\n",
        "        Father.skills(self)\n",
        "        Mother.skills(self)\n",
        "        print(\"Programming\")\n",
        "\n",
        "# Create an object\n",
        "c = Child()\n",
        "c.skills()\n",
        "\n"
      ],
      "metadata": {
        "colab": {
          "base_uri": "https://localhost:8080/"
        },
        "id": "wTyijXPgihYZ",
        "outputId": "5b4f182b-2fc5-4538-82a4-10dd2dea12b7"
      },
      "execution_count": null,
      "outputs": [
        {
          "output_type": "stream",
          "name": "stdout",
          "text": [
            "Gardening, Carpentry\n",
            "Cooking, Painting\n",
            "Programming\n"
          ]
        }
      ]
    },
    {
      "cell_type": "code",
      "source": [
        "# 19 Explain the purpose of ‘’__str__’ and ‘__repr__’ ‘ methods in Python.\n",
        "'''\n",
        " __str__ and __repr__ are special (dunder) methods in Python that\n",
        "define how objects are represented as strings. They’re super useful for debugging\n",
        "and making your objects more readable and user-friendly.\n",
        "'''\n",
        "#  __str__(self)\n",
        "'''\n",
        "  Called by the str() function or when using print(object).\n",
        "\n",
        "  Goal: Return a user-friendly, readable string.\n",
        "\n",
        "  Best for end-users.\n",
        "'''\n",
        "\n",
        "#  __repr__(self)\n",
        "'''\n",
        "  Called by the repr() function or in the interactive console or logs.\n",
        "\n",
        "  Goal: Return an unambiguous, developer-focused string.\n",
        "\n",
        "  Ideally, it should return a string that could recreate the object (when possible).\n",
        "\n",
        "  python\n",
        "  Copy code\n",
        "'''\n",
        "\n",
        "\n"
      ],
      "metadata": {
        "id": "2FqmpS1qkdde"
      },
      "execution_count": null,
      "outputs": []
    },
    {
      "cell_type": "code",
      "source": [
        "#  20. What is the significance of the ‘super()’ function in Python.\n",
        "'''\n",
        "  The super() function in Python is a built-in function that's used to call methods\n",
        "  from a parent (or superclass) in a child (subclass). It's especially useful in\n",
        "  inheritance scenarios.\n",
        "'''\n"
      ],
      "metadata": {
        "id": "0TlC25NRlkB6"
      },
      "execution_count": null,
      "outputs": []
    },
    {
      "cell_type": "code",
      "source": [
        "# 21 What is the significance of the __del__ method in Python?\n",
        "'''\n",
        "The __del__ method in Python is known as a destructor. It is called automatically\n",
        "when an object is about to be destroyed, meaning when there are no more references to it.\n",
        "'''\n",
        "\n",
        "#  Purpose of __del__:\n",
        "'''\n",
        "To perform cleanup actions before the object is deleted.\n",
        "\n",
        "Commonly used for:\n",
        "\n",
        "Closing files\n",
        "\n",
        "Releasing network connections\n",
        "\n",
        "Freeing up system resources\n",
        "'''\n",
        "\n"
      ],
      "metadata": {
        "id": "xzpqMwWBl-o_"
      },
      "execution_count": null,
      "outputs": []
    },
    {
      "cell_type": "code",
      "source": [],
      "metadata": {
        "id": "RV65Rwcbm0Zs"
      },
      "execution_count": null,
      "outputs": []
    },
    {
      "cell_type": "code",
      "source": [
        "# 22 What is the difference between @staticmethod and @classmethod in Python?\n",
        "'''\n",
        "  In Python, @staticmethod and @classmethod are decorators used to\n",
        "  define methods that aren't quite the same as regular instance methods — but they\n",
        "  behave differently from each other.\n",
        "'''\n",
        "\n",
        "#staticmethod\n",
        "'''\n",
        "Does not take self or cls as the first parameter.\n",
        "\n",
        "Behaves like a regular function, just happens to live in a class.\n",
        "\n",
        "Cannot access or modify class or instance state.\n",
        "\n",
        "Used when the method’s logic is independent of the class or instance.\n",
        "'''\n",
        "# classmethod\n",
        "'''\n",
        "Takes cls as the first parameter (refers to the class, not the instance).\n",
        "\n",
        "Can access and modify class variables, but not instance variables.\n",
        "\n",
        "Useful for factory methods — creating instances in different ways.\n",
        "'''\n"
      ],
      "metadata": {
        "id": "9yR9oBqInDJ5"
      },
      "execution_count": null,
      "outputs": []
    },
    {
      "cell_type": "code",
      "source": [
        "# 23. How does polymorphism work in Python with inheritance?\n",
        "'''\n",
        "polymorphism is one of the core pillars of OOP, and Python makes it really elegant\n",
        "thanks to its dynamic typing and flexible inheritance model.\n",
        "\n",
        "'''\n",
        "\n",
        "# What is Polymorphism?\n",
        "'''\n",
        "Polymorphism means \"many forms.\" In the context of OOP, it allows different classes\n",
        "to implement the same method in different ways, and lets you use objects of different\n",
        "types interchangeably if they share a common interface (like a method name).\n",
        "'''\n",
        "\n",
        "# How It Works:\n",
        "'''\n",
        "Inheritance: Child classes inherit from a common base class (Animal).\n",
        "\n",
        "Method Overriding: Each subclass overrides the same method (speak()).\n",
        "\n",
        "Polymorphism: The same interface (speak) behaves differently depending on the object’s actual class.\n",
        "'''\n",
        "\n"
      ],
      "metadata": {
        "id": "bEtydLfbnrbP"
      },
      "execution_count": null,
      "outputs": []
    },
    {
      "cell_type": "code",
      "source": [
        "# 24 What is method chaining in Python OOP?\n",
        "'''\n",
        "Method chaining is a technique in Python (and other OOP languages) where multiple\n",
        "methods are called on the same object in a single line, one after another, using dots (.).\n",
        "\n",
        "It works when each method returns self (the object itself), allowing the next method\n",
        "to be called on the result.\n",
        "'''\n",
        "\n",
        "# How it works:\n",
        "'''\n",
        "Person(\"Alice\") creates the object.\n",
        "\n",
        ".set_age(30) sets the age and returns self.\n",
        "\n",
        ".greet() prints the message and returns self (optional).\n",
        "'''\n",
        "\n"
      ],
      "metadata": {
        "id": "C-UfJWSioZzQ"
      },
      "execution_count": null,
      "outputs": []
    },
    {
      "cell_type": "code",
      "source": [
        "# 25. What is the purpose of the __call__ method in Python?\n",
        "'''\n",
        "he __call__ method lets an object be called like a function.\n",
        "\n",
        "When you define __call__ in a class, instances of that class become callable, just\n",
        "like a function. It's like turning your object into a function!\n",
        "'''\n",
        "\n",
        "# Example\n",
        "class Greeter:\n",
        "    def __init__(self, name):\n",
        "        self.name = name\n",
        "\n",
        "    def __call__(self, greeting):\n",
        "        return f\"{greeting}, {self.name}!\"\n",
        "\n",
        "g = Greeter(\"Alice\")\n",
        "print(g(\"Hello\"))\n"
      ],
      "metadata": {
        "id": "jCPMYfBNpKum"
      },
      "execution_count": null,
      "outputs": []
    },
    {
      "cell_type": "markdown",
      "source": [
        "#Practicle"
      ],
      "metadata": {
        "id": "vZ4x-_l8Mbhl"
      }
    },
    {
      "cell_type": "code",
      "source": [
        "# 1. Create a parent class Animal with a method speak() that prints a generic message. Create a child class Dog\n",
        "# that overrides the speak() method to print \"Bark!\"\n",
        "\n",
        "# Parent class\n",
        "class Animal:\n",
        "    def speak(self):\n",
        "        print(\"The animal makes a sound.\")\n",
        "\n",
        "# Child class\n",
        "class Dog(Animal):\n",
        "    def speak(self):\n",
        "        print(\"Bark!\")\n",
        "\n",
        "# Example usage\n",
        "a = Animal()\n",
        "a.speak()\n",
        "\n",
        "d = Dog()\n",
        "d.speak()\n"
      ],
      "metadata": {
        "colab": {
          "base_uri": "https://localhost:8080/"
        },
        "id": "VGkn7RveMakD",
        "outputId": "4042ae05-ad91-431e-c4b5-4ef596327230"
      },
      "execution_count": 1,
      "outputs": [
        {
          "output_type": "stream",
          "name": "stdout",
          "text": [
            "The animal makes a sound.\n",
            "Bark!\n"
          ]
        }
      ]
    },
    {
      "cell_type": "code",
      "source": [
        "# 2. Write a program to create an abstract class Shape with a method area(). Derive classes Circle and Rectangle\n",
        "# from it and implement the area() method in both.\n",
        "\n",
        "from abc import ABC, abstractmethod\n",
        "import math\n",
        "\n",
        "# Abstract class\n",
        "class Shape(ABC):\n",
        "    @abstractmethod\n",
        "    def area(self):\n",
        "        pass\n",
        "\n",
        "# Derived class: Circle\n",
        "class Circle(Shape):\n",
        "    def __init__(self, radius):\n",
        "        self.radius = radius\n",
        "\n",
        "    def area(self):\n",
        "        return math.pi * self.radius ** 2\n",
        "\n",
        "# Derived class: Rectangle\n",
        "class Rectangle(Shape):\n",
        "    def __init__(self, width, height):\n",
        "        self.width = width\n",
        "        self.height = height\n",
        "\n",
        "    def area(self):\n",
        "        return self.width * self.height\n",
        "\n",
        "# Example usage\n",
        "c = Circle(5)\n",
        "print(f\"Circle area: {c.area():.2f}\")\n",
        "\n",
        "r = Rectangle(4, 6)\n",
        "print(f\"Rectangle area: {r.area()}\")\n",
        "\n"
      ],
      "metadata": {
        "colab": {
          "base_uri": "https://localhost:8080/"
        },
        "id": "xSA68ZI4M5TP",
        "outputId": "a163b128-e854-4d31-9c08-8192dcc23884"
      },
      "execution_count": 2,
      "outputs": [
        {
          "output_type": "stream",
          "name": "stdout",
          "text": [
            "Circle area: 78.54\n",
            "Rectangle area: 24\n"
          ]
        }
      ]
    },
    {
      "cell_type": "code",
      "source": [
        "# 3. Implement a multi-level inheritance scenario where a class Vehicle has an attribute type. Derive a class Car\n",
        "# and further derive a class ElectricCar that adds a battery attribute.\n",
        "\n",
        "# Base class\n",
        "class Vehicle:\n",
        "    def __init__(self, type):\n",
        "        self.type = type\n",
        "\n",
        "    def show_type(self):\n",
        "        print(f\"Vehicle type: {self.type}\")\n",
        "\n",
        "# Derived class\n",
        "class Car(Vehicle):\n",
        "    def __init__(self, type, brand):\n",
        "        super().__init__(type)\n",
        "        self.brand = brand\n",
        "\n",
        "    def show_brand(self):\n",
        "        print(f\"Car brand: {self.brand}\")\n",
        "\n",
        "# Further derived class\n",
        "class ElectricCar(Car):\n",
        "    def __init__(self, type, brand, battery):\n",
        "        super().__init__(type, brand)\n",
        "        self.battery = battery\n",
        "\n",
        "    def show_battery(self):\n",
        "        print(f\"Battery capacity: {self.battery} kWh\")\n",
        "\n",
        "# Example usage\n",
        "ecar = ElectricCar(\"Four-wheeler\", \"Tesla\", 75)\n",
        "ecar.show_type()\n",
        "ecar.show_brand()\n",
        "ecar.show_battery()\n",
        "\n"
      ],
      "metadata": {
        "colab": {
          "base_uri": "https://localhost:8080/"
        },
        "id": "myOwA1oeNMz1",
        "outputId": "e0d5b32f-d238-4745-843f-466de0cb071a"
      },
      "execution_count": 3,
      "outputs": [
        {
          "output_type": "stream",
          "name": "stdout",
          "text": [
            "Vehicle type: Four-wheeler\n",
            "Car brand: Tesla\n",
            "Battery capacity: 75 kWh\n"
          ]
        }
      ]
    },
    {
      "cell_type": "code",
      "source": [
        "# 4. Demonstrate polymorphism by creating a base class Bird with a method fly(). Create two derived classes\n",
        "# Sparrow and Penguin that override the fly() method.\n",
        "\n",
        "# Base class\n",
        "class Bird:\n",
        "    def fly(self):\n",
        "        print(\"Some birds can fly.\")\n",
        "\n",
        "# Derived class: Sparrow\n",
        "class Sparrow(Bird):\n",
        "    def fly(self):\n",
        "        print(\"Sparrow flies swiftly through the sky.\")\n",
        "\n",
        "# Derived class: Penguin\n",
        "class Penguin(Bird):\n",
        "    def fly(self):\n",
        "        print(\"Penguins can't fly, but they swim like pros.\")\n",
        "\n",
        "# Function to demonstrate polymorphism\n",
        "def bird_flight(bird):\n",
        "    bird.fly()\n",
        "\n",
        "# Example usage\n",
        "bird1 = Sparrow()\n",
        "bird2 = Penguin()\n",
        "\n",
        "bird_flight(bird1)\n",
        "bird_flight(bird2)\n",
        "\n",
        "\n",
        "\n"
      ],
      "metadata": {
        "colab": {
          "base_uri": "https://localhost:8080/"
        },
        "id": "sr9rG9hnNQ58",
        "outputId": "ac09bf60-4603-4aba-fac1-932b0a8639f6"
      },
      "execution_count": 4,
      "outputs": [
        {
          "output_type": "stream",
          "name": "stdout",
          "text": [
            "Sparrow flies swiftly through the sky.\n",
            "Penguins can't fly, but they swim like pros.\n"
          ]
        }
      ]
    },
    {
      "cell_type": "code",
      "source": [
        "# 5. Write a program to demonstrate encapsulation by creating a class BankAccount with private attributes\n",
        "# balance and methods to deposit, withdraw, and check balance.\n",
        "\n",
        "class BankAccount:\n",
        "    def __init__(self, initial_balance=0):\n",
        "        self.__balance = initial_balance  # Private attribute\n",
        "\n",
        "    def deposit(self, amount):\n",
        "        if amount > 0:\n",
        "            self.__balance += amount\n",
        "            print(f\"Deposited: ${amount}\")\n",
        "        else:\n",
        "            print(\"Deposit amount must be positive.\")\n",
        "\n",
        "    def withdraw(self, amount):\n",
        "        if amount <= self.__balance:\n",
        "            self.__balance -= amount\n",
        "            print(f\"Withdrew: ${amount}\")\n",
        "        else:\n",
        "            print(\"Insufficient balance.\")\n",
        "\n",
        "    def check_balance(self):\n",
        "        print(f\"Current balance: ${self.__balance}\")\n",
        "\n",
        "# Example usage\n",
        "account = BankAccount(100)\n",
        "account.check_balance()\n",
        "\n",
        "account.deposit(50)\n",
        "account.withdraw(30)\n",
        "account.check_balance()\n"
      ],
      "metadata": {
        "colab": {
          "base_uri": "https://localhost:8080/"
        },
        "id": "j15ulD4FRtV8",
        "outputId": "e95abc3e-fb86-438e-95ac-cd984a945cc9"
      },
      "execution_count": 5,
      "outputs": [
        {
          "output_type": "stream",
          "name": "stdout",
          "text": [
            "Current balance: $100\n",
            "Deposited: $50\n",
            "Withdrew: $30\n",
            "Current balance: $120\n"
          ]
        }
      ]
    },
    {
      "cell_type": "code",
      "source": [
        "# 6. Demonstrate runtime polymorphism using a method play() in a base class Instrument. Derive classes Guitar\n",
        "# and Piano that implement their own version of play()\n",
        "\n",
        "# Base class\n",
        "class Instrument:\n",
        "    def play(self):\n",
        "        print(\"Playing an instrument.\")\n",
        "\n",
        "# Derived class: Guitar\n",
        "class Guitar(Instrument):\n",
        "    def play(self):\n",
        "        print(\"Strumming the guitar.\")\n",
        "\n",
        "# Derived class: Piano\n",
        "class Piano(Instrument):\n",
        "    def play(self):\n",
        "        print(\"Playing the piano keys.\")\n",
        "\n",
        "# Function to demonstrate runtime polymorphism\n",
        "def perform(instrument):\n",
        "    instrument.play()\n",
        "\n",
        "# Example usage\n",
        "g = Guitar()\n",
        "p = Piano()\n",
        "\n",
        "perform(g)\n",
        "perform(p)"
      ],
      "metadata": {
        "colab": {
          "base_uri": "https://localhost:8080/"
        },
        "id": "PjBxULGgR7--",
        "outputId": "c17ec8bd-2cf6-455f-8d6d-bcd431485fba"
      },
      "execution_count": 6,
      "outputs": [
        {
          "output_type": "stream",
          "name": "stdout",
          "text": [
            "Strumming the guitar.\n",
            "Playing the piano keys.\n"
          ]
        }
      ]
    },
    {
      "cell_type": "code",
      "source": [
        "# 7. Create a class MathOperations with a class method add_numbers() to add two numbers and a static\n",
        "# method subtract_numbers() to subtract two numbers\n",
        "class MathOperations:\n",
        "    @classmethod\n",
        "    def add_numbers(cls, a, b):\n",
        "        return a + b\n",
        "\n",
        "    @staticmethod\n",
        "    def subtract_numbers(a, b):\n",
        "        return a - b\n",
        "\n",
        "# Example usage\n",
        "print(\"Addition:\", MathOperations.add_numbers(10, 5))\n",
        "print(\"Subtraction:\", MathOperations.subtract_numbers(10, 5))"
      ],
      "metadata": {
        "colab": {
          "base_uri": "https://localhost:8080/"
        },
        "id": "HPvXB5r3SSGq",
        "outputId": "b23cfc8b-231c-4ba5-9d6b-4ad913da35bf"
      },
      "execution_count": 7,
      "outputs": [
        {
          "output_type": "stream",
          "name": "stdout",
          "text": [
            "Addition: 15\n",
            "Subtraction: 5\n"
          ]
        }
      ]
    },
    {
      "cell_type": "code",
      "source": [
        "# 8. Implement a class Person with a class method to count the total number of persons created.\n",
        "class Person:\n",
        "    count = 0  # Class variable\n",
        "\n",
        "    def __init__(self, name):\n",
        "        self.name = name\n",
        "        Person.count += 1  # Increment count whenever a new object is created\n",
        "\n",
        "    @classmethod\n",
        "    def get_total_persons(cls):\n",
        "        return cls.count\n",
        "\n",
        "# Example usage\n",
        "p1 = Person(\"Alice\")\n",
        "p2 = Person(\"Bob\")\n",
        "p3 = Person(\"Charlie\")\n",
        "\n",
        "print(f\"Total persons created: {Person.get_total_persons()}\")  # Output: Total persons created: 3\n"
      ],
      "metadata": {
        "id": "eG_URfjKSoJT"
      },
      "execution_count": null,
      "outputs": []
    },
    {
      "cell_type": "code",
      "source": [
        "# 9. Write a class Fraction with attributes numerator and denominator. Override the str method to display the\n",
        "# fraction as \"numerator/denominator\".\n",
        "class Fraction:\n",
        "    def __init__(self, numerator, denominator):\n",
        "        self.numerator = numerator\n",
        "        self.denominator = denominator\n",
        "\n",
        "    def __str__(self):\n",
        "        return f\"{self.numerator}/{self.denominator}\"\n",
        "\n",
        "# Example usage\n",
        "f1 = Fraction(3, 4)\n",
        "f2 = Fraction(7, 2)\n",
        "\n",
        "print(f1)\n",
        "print(f2)\n"
      ],
      "metadata": {
        "colab": {
          "base_uri": "https://localhost:8080/"
        },
        "id": "sAtQxtBaS7Yz",
        "outputId": "d685e19b-05dc-4d4f-dd93-b11b7b144ede"
      },
      "execution_count": 8,
      "outputs": [
        {
          "output_type": "stream",
          "name": "stdout",
          "text": [
            "3/4\n",
            "7/2\n"
          ]
        }
      ]
    },
    {
      "cell_type": "code",
      "source": [
        "# 10. Demonstrate operator overloading by creating a class Vector and overriding the add method to add two\n",
        "# vectors.\n",
        "\n",
        "class Vector:\n",
        "    def __init__(self, x, y):\n",
        "        self.x = x\n",
        "        self.y = y\n",
        "\n",
        "    def __add__(self, other):\n",
        "        return Vector(self.x + other.x, self.y + other.y)\n",
        "\n",
        "    def __str__(self):\n",
        "        return f\"Vector({self.x}, {self.y})\"\n",
        "\n",
        "# Example usage\n",
        "v1 = Vector(2, 3)\n",
        "v2 = Vector(4, 5)\n",
        "v3 = v1 + v2\n",
        "\n",
        "print(v1)\n",
        "print(v2)\n",
        "print(v3)"
      ],
      "metadata": {
        "id": "UkpPLuB-T1RJ"
      },
      "execution_count": null,
      "outputs": []
    },
    {
      "cell_type": "code",
      "source": [
        "# 11. Create a class Person with attributes name and age. Add a method greet() that prints \"Hello, my name is\n",
        "# {name} and I am {age} years old.\"\n",
        "\n",
        "class Person:\n",
        "    def __init__(self, name, age):\n",
        "        self.name = name\n",
        "        self.age = age\n",
        "\n",
        "    def greet(self):\n",
        "        print(f\"Hello, my name is {self.name} and I am {self.age} years old.\")\n",
        "\n",
        "# Example usage\n",
        "p1 = Person(\"Alice\", 30)\n",
        "p1.greet()"
      ],
      "metadata": {
        "colab": {
          "base_uri": "https://localhost:8080/"
        },
        "id": "CAWvRlH2TpM4",
        "outputId": "d1d48ee2-32b9-496b-e562-fe8ccbc389ad"
      },
      "execution_count": 9,
      "outputs": [
        {
          "output_type": "stream",
          "name": "stdout",
          "text": [
            "Hello, my name is Alice and I am 30 years old.\n"
          ]
        }
      ]
    },
    {
      "cell_type": "code",
      "source": [
        "# 12. Implement a class Student with attributes name and grades. Create a method average_grade() to compute\n",
        "# the average of the grades.\n",
        "\n",
        "class Student:\n",
        "    def __init__(self, name, grades):\n",
        "        self.name = name\n",
        "        self.grades = grades  # List of grades\n",
        "\n",
        "    def average_grade(self):\n",
        "        if self.grades:\n",
        "            return sum(self.grades) / len(self.grades)\n",
        "        else:\n",
        "            return 0.0  # Avoid division by zero\n",
        "\n",
        "# Example usage\n",
        "s1 = Student(\"Aria\", [85, 90, 78, 92])\n",
        "print(f\"{s1.name}'s average grade is: {s1.average_grade():.2f}\")\n"
      ],
      "metadata": {
        "colab": {
          "base_uri": "https://localhost:8080/"
        },
        "id": "gd77ePpAUgIn",
        "outputId": "1f4b5879-7269-4644-c6e2-422f0eea917c"
      },
      "execution_count": 10,
      "outputs": [
        {
          "output_type": "stream",
          "name": "stdout",
          "text": [
            "Aria's average grade is: 86.25\n"
          ]
        }
      ]
    },
    {
      "cell_type": "code",
      "source": [
        "# 13. Create a class Rectangle with methods set_dimensions() to set the dimensions and area() to calculate the\n",
        "# area.\n",
        "class Rectangle:\n",
        "    def __init__(self):\n",
        "        self.width = 0\n",
        "        self.height = 0\n",
        "\n",
        "    def set_dimensions(self, width, height):\n",
        "        self.width = width\n",
        "        self.height = height\n",
        "\n",
        "    def area(self):\n",
        "        return self.width * self.height\n",
        "\n",
        "# Example usage\n",
        "rect = Rectangle()\n",
        "rect.set_dimensions(5, 10)\n",
        "print(f\"Area of the rectangle: {rect.area()}\")"
      ],
      "metadata": {
        "colab": {
          "base_uri": "https://localhost:8080/"
        },
        "id": "S68L29pHU22P",
        "outputId": "c612c612-f53f-455e-d14c-8ab440b4efe4"
      },
      "execution_count": 11,
      "outputs": [
        {
          "output_type": "stream",
          "name": "stdout",
          "text": [
            "Area of the rectangle: 50\n"
          ]
        }
      ]
    },
    {
      "cell_type": "code",
      "source": [
        "# 14. Create a class Employee with a method calculate_salary() that computes the salary based on hours worked\n",
        "# and hourly rate. Create a derived class Manager that adds a bonus to the salary\n",
        "\n",
        "# Base class\n",
        "class Employee:\n",
        "    def __init__(self, name, hours_worked, hourly_rate):\n",
        "        self.name = name\n",
        "        self.hours_worked = hours_worked\n",
        "        self.hourly_rate = hourly_rate\n",
        "\n",
        "    def calculate_salary(self):\n",
        "        return self.hours_worked * self.hourly_rate\n",
        "\n",
        "# Derived class\n",
        "class Manager(Employee):\n",
        "    def __init__(self, name, hours_worked, hourly_rate, bonus):\n",
        "        super().__init__(name, hours_worked, hourly_rate)\n",
        "        self.bonus = bonus\n",
        "\n",
        "    def calculate_salary(self):\n",
        "        base_salary = super().calculate_salary()\n",
        "        return base_salary + self.bonus\n",
        "\n",
        "# Example usage\n",
        "emp = Employee(\"Alice\", 40, 20)\n",
        "mgr = Manager(\"Bob\", 45, 30, 500)\n",
        "\n",
        "print(f\"{emp.name}'s salary: ${emp.calculate_salary()}\")\n",
        "print(f\"{mgr.name}'s salary: ${mgr.calculate_salary()}\")"
      ],
      "metadata": {
        "id": "ReL9b--2V3VG"
      },
      "execution_count": null,
      "outputs": []
    },
    {
      "cell_type": "code",
      "source": [],
      "metadata": {
        "id": "0Ih0tmyqWnCT"
      },
      "execution_count": null,
      "outputs": []
    },
    {
      "cell_type": "code",
      "source": [
        "# 15. Create a class Product with attributes name, price, and quantity. Implement a method total_price() that\n",
        "# calculates the total price of the product\n",
        "\n",
        "class Product:\n",
        "    def __init__(self, name, price, quantity):\n",
        "        self.name = name\n",
        "        self.price = price\n",
        "        self.quantity = quantity\n",
        "\n",
        "    def total_price(self):\n",
        "        return self.price * self.quantity\n",
        "\n",
        "# Example usage\n",
        "product1 = Product(\"Smartphone\", 599.99, 3)\n",
        "print(f\"Total price for {product1.name}s: ${product1.total_price():.2f}\")\n"
      ],
      "metadata": {
        "colab": {
          "base_uri": "https://localhost:8080/"
        },
        "id": "-QfNUrYTWRzm",
        "outputId": "190fa3e8-4864-407a-e722-9494d58dca7e"
      },
      "execution_count": 12,
      "outputs": [
        {
          "output_type": "stream",
          "name": "stdout",
          "text": [
            "Total price for Smartphones: $1799.97\n"
          ]
        }
      ]
    },
    {
      "cell_type": "code",
      "source": [
        "# 16. Create a class Animal with an abstract method sound(). Create two derived classes Cow and Sheep that\n",
        "# implement the sound() method.\n",
        "\n",
        "from abc import ABC, abstractmethod\n",
        "\n",
        "# Abstract base class\n",
        "class Animal(ABC):\n",
        "    @abstractmethod\n",
        "    def sound(self):\n",
        "        pass\n",
        "\n",
        "# Derived class: Cow\n",
        "class Cow(Animal):\n",
        "    def sound(self):\n",
        "        return \"Moo\"\n",
        "\n",
        "# Derived class: Sheep\n",
        "class Sheep(Animal):\n",
        "    def sound(self):\n",
        "        return \"Baa\"\n",
        "\n",
        "# Example usage\n",
        "cow = Cow()\n",
        "sheep = Sheep()\n",
        "\n",
        "print(f\"Cow says: {cow.sound()}\")\n",
        "print(f\"Sheep says: {sheep.sound()}\")\n"
      ],
      "metadata": {
        "id": "G_rMZme8WxaT"
      },
      "execution_count": null,
      "outputs": []
    },
    {
      "cell_type": "code",
      "source": [
        "# 17. Create a class Book with attributes title, author, and year_published. Add a method get_book_info() that\n",
        "# returns a formatted string with the book's details.\n",
        "class Book:\n",
        "    def __init__(self, title, author, year_published):\n",
        "        self.title = title\n",
        "        self.author = author\n",
        "        self.year_published = year_published\n",
        "\n",
        "    def get_book_info(self):\n",
        "        return f\"'{self.title}' by {self.author} (Published in {self.year_published})\"\n",
        "\n",
        "# Example usage\n",
        "book1 = Book(\"To Kill a Mockingbird\", \"Harper Lee\", 1960)\n",
        "print(book1.get_book_info())\n"
      ],
      "metadata": {
        "colab": {
          "base_uri": "https://localhost:8080/"
        },
        "id": "dOFek_xIXCqY",
        "outputId": "b50d6605-75be-4c1f-bf6c-9bcf4d9e0df9"
      },
      "execution_count": 13,
      "outputs": [
        {
          "output_type": "stream",
          "name": "stdout",
          "text": [
            "'To Kill a Mockingbird' by Harper Lee (Published in 1960)\n"
          ]
        }
      ]
    },
    {
      "cell_type": "code",
      "source": [
        "# 18. Create a class House with attributes address and price. Create a derived class Mansion that adds an\n",
        "# attribute number_of_rooms.\n",
        "\n",
        "# Base class\n",
        "class House:\n",
        "    def __init__(self, address, price):\n",
        "        self.address = address\n",
        "        self.price = price\n",
        "\n",
        "    def get_info(self):\n",
        "        return f\"House located at {self.address}, priced at ${self.price}\"\n",
        "\n",
        "# Derived class\n",
        "class Mansion(House):\n",
        "    def __init__(self, address, price, number_of_rooms):\n",
        "        super().__init__(address, price)\n",
        "        self.number_of_rooms = number_of_rooms\n",
        "\n",
        "    def get_info(self):\n",
        "        return f\"Mansion at {self.address}, ${self.price}, with {self.number_of_rooms} rooms\"\n",
        "\n",
        "# Example usage\n",
        "house1 = House(\"123 Maple St\", 250000)\n",
        "mansion1 = Mansion(\"1 Beverly Hills\", 5000000, 12)\n",
        "\n",
        "print(house1.get_info())\n",
        "print(mansion1.get_info())"
      ],
      "metadata": {
        "colab": {
          "base_uri": "https://localhost:8080/"
        },
        "id": "Bvyu6m1YXX3f",
        "outputId": "eb69b673-beb2-4fc3-8c23-8903739f1f90"
      },
      "execution_count": 14,
      "outputs": [
        {
          "output_type": "stream",
          "name": "stdout",
          "text": [
            "House located at 123 Maple St, priced at $250000\n",
            "Mansion at 1 Beverly Hills, $5000000, with 12 rooms\n"
          ]
        }
      ]
    }
  ]
}